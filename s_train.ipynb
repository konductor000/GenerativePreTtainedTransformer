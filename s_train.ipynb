{
 "cells": [
  {
   "cell_type": "code",
   "execution_count": 1,
   "metadata": {},
   "outputs": [
    {
     "name": "stderr",
     "output_type": "stream",
     "text": [
      "/Users/skorodumov-s/Desktop/code/GenerativePretrainedTransformer/venv/lib/python3.11/site-packages/tqdm/auto.py:21: TqdmWarning: IProgress not found. Please update jupyter and ipywidgets. See https://ipywidgets.readthedocs.io/en/stable/user_install.html\n",
      "  from .autonotebook import tqdm as notebook_tqdm\n"
     ]
    }
   ],
   "source": [
    "import torch\n",
    "from torch import nn\n",
    "from torch.nn import functional\n",
    "from datasets import load_dataset\n",
    "from torch.utils.data import DataLoader\n",
    "from transformers import AutoTokenizer, DataCollatorWithPadding\n",
    "import torch.optim as optim\n",
    "\n",
    "from dataset.create_dataset import create_data_loader\n",
    "from layers.model import Transformer, AutoregressiveWrapper\n",
    "from transformers import BertTokenizer\n",
    "\n",
    "from test_model.test_model import TestModel\n",
    "from tqdm import tqdm\n",
    "\n",
    "import wandb\n",
    "\n",
    "import time\n"
   ]
  },
  {
   "cell_type": "code",
   "execution_count": 2,
   "metadata": {},
   "outputs": [
    {
     "name": "stdout",
     "output_type": "stream",
     "text": [
      "cpu\n"
     ]
    }
   ],
   "source": [
    "CONFIG = {\n",
    "    \"architecture\": \"Transformer\", # Wandb only\n",
    "    \"dataset\": \"wikitext\", # Wandb only\n",
    "    \"batch_size\": 4,\n",
    "    \"embedding_size\": 128,\n",
    "    \"max_sequence_length\": 512,\n",
    "    \"number_of_layers\": 6,\n",
    "    \"number_of_heads\": 4,\n",
    "    \"additional_feed_forward_layers\": 0,\n",
    "    \"dropout_rate\": 0.0,\n",
    "    \"lr\": 0.001\n",
    "}\n",
    "\n",
    "device = torch.device(\"cuda\" if torch.cuda.is_available() else \"cpu\")\n",
    "\n",
    "print(device)"
   ]
  },
  {
   "cell_type": "code",
   "execution_count": 3,
   "metadata": {
    "scrolled": true
   },
   "outputs": [],
   "source": [
    "def test_model(pipeline, model, loss_function):\n",
    "    model.eval()\n",
    "    total_loss = 0\n",
    "\n",
    "    for batch in test_dataloader:\n",
    "        input_ids = batch['input_ids'].to(device)\n",
    "        attention_mask = batch['attention_mask'].to(device)\n",
    "\n",
    "        model_output, target = pipeline(input_ids, attention_mask)\n",
    "\n",
    "        loss = loss_function(model_output.transpose(1, 2), target)\n",
    "\n",
    "        total_loss += float(loss)\n",
    "\n",
    "    total_loss /= len(test_dataloader)# * CONFIG[\"batch_size\"]\n",
    "\n",
    "    return total_loss\n",
    "\n",
    "\n",
    "def train(CONFIG, pipeline, model, optimizer, loss_function, wandb):\n",
    "    train_config = {\n",
    "        \"test_every\": 512 // CONFIG[\"batch_size\"],\n",
    "        \"log_traing_metrics_every\": 64 // CONFIG[\"batch_size\"],\n",
    "    }\n",
    "\n",
    "    train_time = 0\n",
    "    test_time = 0\n",
    "    last_moment = time.time()\n",
    "\n",
    "    model.train()\n",
    "\n",
    "    batch_num = 0\n",
    "    train_losses = []\n",
    "    for batch in tqdm(train_dataloader, desc=\"Training Progress\"):\n",
    "        optimizer.zero_grad()\n",
    "\n",
    "        input_ids = batch['input_ids'].to(device)\n",
    "        attention_mask = batch['attention_mask'].to(device)\n",
    "\n",
    "        model_output, target = pipeline(input_ids, attention_mask)\n",
    "        loss = loss_function(model_output.transpose(1, 2), target)\n",
    "\n",
    "        loss.backward()\n",
    "        torch.nn.utils.clip_grad_norm_(model.parameters(), 0.5)\n",
    "        optimizer.step()\n",
    "        \n",
    "        train_losses.append(float(loss))\n",
    "        batch_num += 1\n",
    "\n",
    "        if batch_num % train_config[\"log_traing_metrics_every\"] == 0:\n",
    "            train_time += time.time() - last_moment\n",
    "            last_moment = time.time()\n",
    "\n",
    "            datapoints_processed_total = batch_num * CONFIG[\"batch_size\"]\n",
    "            wandb.log({\n",
    "                \"train_loss\": sum(train_losses[-train_config[\"log_traing_metrics_every\"]:]) / train_config[\"log_traing_metrics_every\"],\n",
    "                \"datapoints_processed_total\": datapoints_processed_total,\n",
    "                \"train_time\": train_time,\n",
    "            })\n",
    "\n",
    "        if batch_num % train_config[\"test_every\"] == 0:\n",
    "            train_time += time.time() - last_moment\n",
    "            last_moment = time.time()\n",
    "\n",
    "            test_loss = test_model(pipeline, model, loss_function)\n",
    "\n",
    "            test_time += time.time() - last_moment\n",
    "            last_moment = time.time()\n",
    "\n",
    "            datapoints_processed_total = batch_num * CONFIG[\"batch_size\"]\n",
    "\n",
    "            wandb.log({\n",
    "                \"test_loss\": test_loss,\n",
    "                \"datapoints_processed_total\": datapoints_processed_total,\n",
    "                \"test_time\": test_time,\n",
    "            })"
   ]
  },
  {
   "cell_type": "code",
   "execution_count": 4,
   "metadata": {},
   "outputs": [],
   "source": [
    "def create_model(CONFIG):\n",
    "    tokenizer = BertTokenizer.from_pretrained('bert-base-uncased')\n",
    "    number_of_tokens = tokenizer.vocab_size\n",
    "\n",
    "    model = Transformer(\n",
    "        embedding_size=CONFIG[\"embedding_size\"],\n",
    "        number_of_tokens=number_of_tokens,\n",
    "        number_of_heads=CONFIG[\"number_of_heads\"],\n",
    "        number_of_layers=CONFIG[\"number_of_layers\"],\n",
    "        additional_feed_forward_layers=CONFIG[\"additional_feed_forward_layers\"],\n",
    "        dropout_rate=CONFIG[\"dropout_rate\"],\n",
    "        max_sequence_length=CONFIG[\"max_sequence_length\"]\n",
    "    ).to(device)\n",
    "    pipeline = AutoregressiveWrapper(model).to(device)\n",
    "\n",
    "    loss_function = nn.CrossEntropyLoss().to(device)\n",
    "    optimizer = optim.Adam(model.parameters(), lr=CONFIG[\"lr\"])\n",
    "\n",
    "    return pipeline, model, optimizer, loss_function"
   ]
  },
  {
   "cell_type": "code",
   "execution_count": 5,
   "metadata": {},
   "outputs": [
    {
     "name": "stderr",
     "output_type": "stream",
     "text": [
      "Failed to detect the name of this notebook, you can set it manually with the WANDB_NOTEBOOK_NAME environment variable to enable code saving.\n",
      "\u001b[34m\u001b[1mwandb\u001b[0m: Currently logged in as: \u001b[33mskorodumov\u001b[0m. Use \u001b[1m`wandb login --relogin`\u001b[0m to force relogin\n"
     ]
    },
    {
     "data": {
      "text/html": [
       "Tracking run with wandb version 0.15.7"
      ],
      "text/plain": [
       "<IPython.core.display.HTML object>"
      ]
     },
     "metadata": {},
     "output_type": "display_data"
    },
    {
     "data": {
      "text/html": [
       "Run data is saved locally in <code>/Users/skorodumov-s/Desktop/code/GenerativePretrainedTransformer/wandb/run-20230730_225807-cauq1jkf</code>"
      ],
      "text/plain": [
       "<IPython.core.display.HTML object>"
      ]
     },
     "metadata": {},
     "output_type": "display_data"
    },
    {
     "data": {
      "text/html": [
       "Syncing run <strong><a href='https://wandb.ai/skorodumov/transformer/runs/cauq1jkf' target=\"_blank\">eternal-resonance-69</a></strong> to <a href='https://wandb.ai/skorodumov/transformer' target=\"_blank\">Weights & Biases</a> (<a href='https://wandb.me/run' target=\"_blank\">docs</a>)<br/>"
      ],
      "text/plain": [
       "<IPython.core.display.HTML object>"
      ]
     },
     "metadata": {},
     "output_type": "display_data"
    },
    {
     "data": {
      "text/html": [
       " View project at <a href='https://wandb.ai/skorodumov/transformer' target=\"_blank\">https://wandb.ai/skorodumov/transformer</a>"
      ],
      "text/plain": [
       "<IPython.core.display.HTML object>"
      ]
     },
     "metadata": {},
     "output_type": "display_data"
    },
    {
     "data": {
      "text/html": [
       " View run at <a href='https://wandb.ai/skorodumov/transformer/runs/cauq1jkf' target=\"_blank\">https://wandb.ai/skorodumov/transformer/runs/cauq1jkf</a>"
      ],
      "text/plain": [
       "<IPython.core.display.HTML object>"
      ]
     },
     "metadata": {},
     "output_type": "display_data"
    },
    {
     "name": "stderr",
     "output_type": "stream",
     "text": [
      "Training Progress:  28%|██▊       | 2320/8192 [32:19<1:21:49,  1.20it/s]\n"
     ]
    },
    {
     "ename": "KeyboardInterrupt",
     "evalue": "",
     "output_type": "error",
     "traceback": [
      "\u001b[0;31m---------------------------------------------------------------------------\u001b[0m",
      "\u001b[0;31mKeyboardInterrupt\u001b[0m                         Traceback (most recent call last)",
      "Cell \u001b[0;32mIn[5], line 16\u001b[0m\n\u001b[1;32m      6\u001b[0m wandb\u001b[39m.\u001b[39minit(\n\u001b[1;32m      7\u001b[0m     \u001b[39m# set the wandb project where this run will be logged\u001b[39;00m\n\u001b[1;32m      8\u001b[0m     project\u001b[39m=\u001b[39m\u001b[39m\"\u001b[39m\u001b[39mtransformer\u001b[39m\u001b[39m\"\u001b[39m,\n\u001b[0;32m   (...)\u001b[0m\n\u001b[1;32m     12\u001b[0m     config\u001b[39m=\u001b[39mCONFIG\n\u001b[1;32m     13\u001b[0m )\n\u001b[1;32m     15\u001b[0m pipeline, model, optimizer, loss_function \u001b[39m=\u001b[39m create_model(CONFIG)\n\u001b[0;32m---> 16\u001b[0m train(CONFIG, pipeline, model, optimizer, loss_function, wandb)\n",
      "Cell \u001b[0;32mIn[3], line 55\u001b[0m, in \u001b[0;36mtrain\u001b[0;34m(CONFIG, pipeline, model, optimizer, loss_function, wandb)\u001b[0m\n\u001b[1;32m     52\u001b[0m model_output, target \u001b[39m=\u001b[39m pipeline(input_ids, attention_mask)\n\u001b[1;32m     53\u001b[0m loss \u001b[39m=\u001b[39m loss_function(model_output\u001b[39m.\u001b[39mtranspose(\u001b[39m1\u001b[39m, \u001b[39m2\u001b[39m), target)\n\u001b[0;32m---> 55\u001b[0m loss\u001b[39m.\u001b[39;49mbackward()\n\u001b[1;32m     56\u001b[0m torch\u001b[39m.\u001b[39mnn\u001b[39m.\u001b[39mutils\u001b[39m.\u001b[39mclip_grad_norm_(model\u001b[39m.\u001b[39mparameters(), \u001b[39m0.5\u001b[39m)\n\u001b[1;32m     57\u001b[0m optimizer\u001b[39m.\u001b[39mstep()\n",
      "File \u001b[0;32m~/Desktop/code/GenerativePretrainedTransformer/venv/lib/python3.11/site-packages/torch/_tensor.py:487\u001b[0m, in \u001b[0;36mTensor.backward\u001b[0;34m(self, gradient, retain_graph, create_graph, inputs)\u001b[0m\n\u001b[1;32m    477\u001b[0m \u001b[39mif\u001b[39;00m has_torch_function_unary(\u001b[39mself\u001b[39m):\n\u001b[1;32m    478\u001b[0m     \u001b[39mreturn\u001b[39;00m handle_torch_function(\n\u001b[1;32m    479\u001b[0m         Tensor\u001b[39m.\u001b[39mbackward,\n\u001b[1;32m    480\u001b[0m         (\u001b[39mself\u001b[39m,),\n\u001b[0;32m   (...)\u001b[0m\n\u001b[1;32m    485\u001b[0m         inputs\u001b[39m=\u001b[39minputs,\n\u001b[1;32m    486\u001b[0m     )\n\u001b[0;32m--> 487\u001b[0m torch\u001b[39m.\u001b[39;49mautograd\u001b[39m.\u001b[39;49mbackward(\n\u001b[1;32m    488\u001b[0m     \u001b[39mself\u001b[39;49m, gradient, retain_graph, create_graph, inputs\u001b[39m=\u001b[39;49minputs\n\u001b[1;32m    489\u001b[0m )\n",
      "File \u001b[0;32m~/Desktop/code/GenerativePretrainedTransformer/venv/lib/python3.11/site-packages/torch/autograd/__init__.py:200\u001b[0m, in \u001b[0;36mbackward\u001b[0;34m(tensors, grad_tensors, retain_graph, create_graph, grad_variables, inputs)\u001b[0m\n\u001b[1;32m    195\u001b[0m     retain_graph \u001b[39m=\u001b[39m create_graph\n\u001b[1;32m    197\u001b[0m \u001b[39m# The reason we repeat same the comment below is that\u001b[39;00m\n\u001b[1;32m    198\u001b[0m \u001b[39m# some Python versions print out the first line of a multi-line function\u001b[39;00m\n\u001b[1;32m    199\u001b[0m \u001b[39m# calls in the traceback and some print out the last line\u001b[39;00m\n\u001b[0;32m--> 200\u001b[0m Variable\u001b[39m.\u001b[39;49m_execution_engine\u001b[39m.\u001b[39;49mrun_backward(  \u001b[39m# Calls into the C++ engine to run the backward pass\u001b[39;49;00m\n\u001b[1;32m    201\u001b[0m     tensors, grad_tensors_, retain_graph, create_graph, inputs,\n\u001b[1;32m    202\u001b[0m     allow_unreachable\u001b[39m=\u001b[39;49m\u001b[39mTrue\u001b[39;49;00m, accumulate_grad\u001b[39m=\u001b[39;49m\u001b[39mTrue\u001b[39;49;00m)\n",
      "\u001b[0;31mKeyboardInterrupt\u001b[0m: "
     ]
    }
   ],
   "source": [
    "for i in range(1):\n",
    "    train_dataloader, test_dataloader, _ = create_data_loader(batch_size=CONFIG[\"batch_size\"],\n",
    "                                    max_sequence_size=CONFIG[\"max_sequence_length\"],\n",
    "                                    train_size=2**15, test_size=128)\n",
    "\n",
    "    wandb.init(\n",
    "        # set the wandb project where this run will be logged\n",
    "        project=\"transformer\",\n",
    "        tags=[\"long_training_testing\"],\n",
    "        \n",
    "        # track hyperparameters and run metadata\n",
    "        config=CONFIG\n",
    "    )\n",
    "\n",
    "    pipeline, model, optimizer, loss_function = create_model(CONFIG)\n",
    "    train(CONFIG, pipeline, model, optimizer, loss_function, wandb)\n"
   ]
  },
  {
   "cell_type": "code",
   "execution_count": 7,
   "metadata": {},
   "outputs": [],
   "source": [
    "PATH = \"savepoints/first_save\"\n",
    "torch.save(model.state_dict(), PATH)"
   ]
  },
  {
   "cell_type": "code",
   "execution_count": 8,
   "metadata": {},
   "outputs": [
    {
     "data": {
      "text/plain": [
       "Transformer(\n",
       "  (token_embedding): TokenEmbedding(\n",
       "    (embedding_layer): Embedding(30522, 128)\n",
       "  )\n",
       "  (positional_encoding): PositionalEncoding()\n",
       "  (layer_normalization): LayerNorm((128,), eps=1e-05, elementwise_affine=True)\n",
       "  (decoder): DecoderStack(\n",
       "    (encoder_layers): ModuleList(\n",
       "      (0-5): 6 x DecoderLayer(\n",
       "        (multi_headed_self_attention): MaskedMultiHeadedSelfAttention(\n",
       "          (self_attentions): ModuleList(\n",
       "            (0-3): 4 x MaskedSelfAttention(\n",
       "              (query_layer): Linear(in_features=128, out_features=32, bias=True)\n",
       "              (key_layer): Linear(in_features=128, out_features=32, bias=True)\n",
       "              (value_layer): Linear(in_features=128, out_features=32, bias=True)\n",
       "              (softmax): Softmax(dim=-1)\n",
       "            )\n",
       "          )\n",
       "          (output_layer): Linear(in_features=128, out_features=128, bias=True)\n",
       "        )\n",
       "        (feed_forward): FeedForward(\n",
       "          (linear_1): Linear(in_features=128, out_features=512, bias=True)\n",
       "          (linear_last): Linear(in_features=512, out_features=128, bias=True)\n",
       "        )\n",
       "        (dropout): Dropout(p=0.0, inplace=False)\n",
       "        (layer_normalization_1): LayerNorm((128,), eps=1e-05, elementwise_affine=True)\n",
       "        (layer_normalization_2): LayerNorm((128,), eps=1e-05, elementwise_affine=True)\n",
       "      )\n",
       "    )\n",
       "  )\n",
       "  (lm_head): LMHead(\n",
       "    (linear): Linear(in_features=128, out_features=30522, bias=True)\n",
       "  )\n",
       ")"
      ]
     },
     "execution_count": 8,
     "metadata": {},
     "output_type": "execute_result"
    }
   ],
   "source": [
    "model.load_state_dict(torch.load(PATH))\n",
    "model.eval()\n",
    "\n",
    "print(test_model(pipeline, model, loss_function))"
   ]
  },
  {
   "cell_type": "code",
   "execution_count": null,
   "metadata": {},
   "outputs": [],
   "source": []
  },
  {
   "cell_type": "code",
   "execution_count": null,
   "metadata": {},
   "outputs": [],
   "source": []
  },
  {
   "cell_type": "code",
   "execution_count": null,
   "metadata": {},
   "outputs": [
    {
     "data": {
      "text/plain": [
       "'\\nTODO wb\\n* --Добавить гиперпарметры в конфиг, из него их брать в модели и посылать его же в wb\\n* --Добавить время тренировки\\n* Добавить метрик\\n* Запустить автоматический подбор гиперпараметров\\n* --Уменьшить время итерации, понять какое время оптимальное \\n* --Синхронизировать итерации тест и трейн лоса\\n    * --Научиться чаще пушить одни метрики чаще чем другие и не путаться\\n'"
      ]
     },
     "execution_count": 6,
     "metadata": {},
     "output_type": "execute_result"
    }
   ],
   "source": [
    "'''\n",
    "TODO wb\n",
    "* --Добавить гиперпарметры в конфиг, из него их брать в модели и посылать его же в wb\n",
    "* --Добавить время тренировки\n",
    "* Добавить метрик\n",
    "* Запустить автоматический подбор гиперпараметров\n",
    "* --Уменьшить время итерации, понять какое время оптимальное \n",
    "* --Синхронизировать итерации тест и трейн лоса\n",
    "    * --Научиться чаще пушить одни метрики чаще чем другие и не путаться\n",
    "* Научиться сохранять и загружать модели\n",
    "    * Научиться начинать тренировку загруженной модели с момента сохранения\n",
    "'''"
   ]
  }
 ],
 "metadata": {
  "kernelspec": {
   "display_name": "venv",
   "language": "python",
   "name": "python3"
  },
  "language_info": {
   "codemirror_mode": {
    "name": "ipython",
    "version": 3
   },
   "file_extension": ".py",
   "mimetype": "text/x-python",
   "name": "python",
   "nbconvert_exporter": "python",
   "pygments_lexer": "ipython3",
   "version": "3.11.4"
  },
  "vscode": {
   "interpreter": {
    "hash": "8defd53a528e9245923bfdc9d5a38f5c3ca09cbc6e92fa1b95a37aeffbb04cd1"
   }
  }
 },
 "nbformat": 4,
 "nbformat_minor": 2
}
